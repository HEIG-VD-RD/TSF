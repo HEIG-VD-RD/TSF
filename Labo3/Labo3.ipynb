{
 "cells": [
  {
   "cell_type": "markdown",
   "metadata": {},
   "source": [
    "# TP3 - Codage convolutionnel et l’algorithme de Viterb\n",
    "\n",
    "L’objectif de ce travail est d’implémenter un codeur convolutionnel (2,1,3) et un dé-codeur de Viterbi.\n",
    "\n",
    "(n, k, m) :\n",
    "- n = Nombre de bits de sortie (par itération).\n",
    "- k = Nombre de bits d'entrée (par itération)\n",
    "- m =  Nombre d'états mémoire (profondeur du registre à décalage)."
   ]
  },
  {
   "cell_type": "code",
   "execution_count": null,
   "metadata": {},
   "outputs": [],
   "source": [
    "!pip install mermaid-python"
   ]
  },
  {
   "cell_type": "markdown",
   "metadata": {},
   "source": [
    "$s1(n) = u(n - 1)$ <br>\n",
    "$s2(n) = s1(n - 1)$ <br>\n",
    "$s3(n) = s2(n - 1)$ <br>\n",
    "\n",
    "*Schéma 1:*<br>\n",
    "$v_1 (n) = s1(n) + s2(n)$<br>\n",
    "$v_2 (n) = s1(n) + s2(n) + s3(n)$\n",
    "\n",
    "\n",
    "**Schema 1**<br>\n",
    "| Input u | État Présent S1 S2 S3 | État Suivant S1 S2 S3 | Sorties v1 v2 |\n",
    "|:-------------:|:------------------------------:|:------------------------------:|:----------------------------:|\n",
    "| 0 | 000 | 000 | 00 |\n",
    "| 1 | 000 | 100 | 00 |\n",
    "| 0 | 100 | 010 | 11 |\n",
    "| 1 | 100 | 110 | 11 |\n",
    "| 0 | 010 | 001 | 11 |\n",
    "| 1 | 010 | 101 | 11 |\n",
    "| 0 | 110 | 011 | 00 |\n",
    "| 1 | 110 | 111 | 00 |\n",
    "| 0 | 001 | 000 | 01 |\n",
    "| 1 | 001 | 100 | 01 |\n",
    "| 0 | 101 | 010 | 10 |\n",
    "| 1 | 101 | 110 | 10 |\n",
    "| 0 | 011 | 001 | 10 |\n",
    "| 1 | 011 | 101 | 10 |\n",
    "| 0 | 111 | 011 | 01 |\n",
    "| 1 | 111 | 111 | 01 |\n",
    "\n"
   ]
  },
  {
   "cell_type": "code",
   "execution_count": 3,
   "metadata": {},
   "outputs": [
    {
     "name": "stdout",
     "output_type": "stream",
     "text": [
      "Etat avec les entrées et sorties\n"
     ]
    },
    {
     "data": {
      "text/html": [
       "\n",
       "        <div class=\"mermaid-937d7252-665c-4789-8df4-67e3dd629a55\"></div>\n",
       "        <script type=\"module\">\n",
       "            import mermaid from 'https://cdn.jsdelivr.net/npm/mermaid@10.1.0/+esm'\n",
       "            const graphDefinition = 'stateDiagram-v2\\n    S1S2S3 --> S1S2S3: u = entrée/ v1v2 = sorties\\n';\n",
       "            const element = document.querySelector('.mermaid-937d7252-665c-4789-8df4-67e3dd629a55');\n",
       "            const { svg } = await mermaid.render('graphDiv-937d7252-665c-4789-8df4-67e3dd629a55', graphDefinition);\n",
       "            element.innerHTML = svg;\n",
       "        </script>\n",
       "        "
      ],
      "text/plain": [
       "<mermaid.mermaid.Mermaid at 0x74faf337b310>"
      ]
     },
     "execution_count": 3,
     "metadata": {},
     "output_type": "execute_result"
    }
   ],
   "source": [
    "from mermaid import Mermaid\n",
    "schema_example_graph = \"\"\"\n",
    "stateDiagram-v2\n",
    "    S1S2S3 --> S1S2S3: u = entrée/ v1v2 = sorties\n",
    "\"\"\"\n",
    "print(\"Etat avec les entrées et sorties\")\n",
    "Mermaid(schema_example_graph)"
   ]
  },
  {
   "cell_type": "code",
   "execution_count": 4,
   "metadata": {},
   "outputs": [
    {
     "data": {
      "text/html": [
       "\n",
       "        <div class=\"mermaid-edb88ce0-4d5e-4022-a169-da75faf17c39\"></div>\n",
       "        <script type=\"module\">\n",
       "            import mermaid from 'https://cdn.jsdelivr.net/npm/mermaid@10.1.0/+esm'\n",
       "            const graphDefinition = 'stateDiagram-v2\\n    [*] --> 000\\n    000 --> 000: 0 / 00\\n    000 --> 100: 1 / 00\\n    100 --> 010: 0 / 11\\n    100 --> 110: 1 / 11\\n    010 --> 001: 0 / 11\\n    010 --> 101: 1 / 11\\n    110 --> 011: 0 / 00\\n    110 --> 111: 1 / 00\\n    001 --> 000: 0 / 01\\n    001 --> 100: 1 / 01\\n    101 --> 010: 0 / 10\\n    101 --> 110: 1 / 10\\n    011 --> 001: 0 / 10\\n    011 --> 101: 1 / 10\\n    111 --> 011: 0 / 01\\n    111 --> 111: 1 / 01\\n';\n",
       "            const element = document.querySelector('.mermaid-edb88ce0-4d5e-4022-a169-da75faf17c39');\n",
       "            const { svg } = await mermaid.render('graphDiv-edb88ce0-4d5e-4022-a169-da75faf17c39', graphDefinition);\n",
       "            element.innerHTML = svg;\n",
       "        </script>\n",
       "        "
      ],
      "text/plain": [
       "<mermaid.mermaid.Mermaid at 0x74faf332e510>"
      ]
     },
     "execution_count": 4,
     "metadata": {},
     "output_type": "execute_result"
    }
   ],
   "source": [
    "\n",
    "\n",
    "# Générer le graphe en Mermaid pour le schéma 1\n",
    "schema_1_graph = \"\"\"\n",
    "stateDiagram-v2\n",
    "    [*] --> 000\n",
    "    000 --> 000: 0 / 00\n",
    "    000 --> 100: 1 / 00\n",
    "    100 --> 010: 0 / 11\n",
    "    100 --> 110: 1 / 11\n",
    "    010 --> 001: 0 / 11\n",
    "    010 --> 101: 1 / 11\n",
    "    110 --> 011: 0 / 00\n",
    "    110 --> 111: 1 / 00\n",
    "    001 --> 000: 0 / 01\n",
    "    001 --> 100: 1 / 01\n",
    "    101 --> 010: 0 / 10\n",
    "    101 --> 110: 1 / 10\n",
    "    011 --> 001: 0 / 10\n",
    "    011 --> 101: 1 / 10\n",
    "    111 --> 011: 0 / 01\n",
    "    111 --> 111: 1 / 01\n",
    "\"\"\"\n",
    "\n",
    "# Utilisation de la bibliothèque Mermaid\n",
    "Mermaid(schema_1_graph)\n",
    "\n"
   ]
  },
  {
   "cell_type": "markdown",
   "metadata": {},
   "source": [
    "$s1(n) = u(n - 1)$ <br>\n",
    "$s2(n) = s1(n - 1)$ <br>\n",
    "$s3(n) = s2(n - 1)$ <br>\n",
    "\n",
    "*Schéma 2:*<br>\n",
    "$v_1 (n) = s1(n) + s3(n)$<br>\n",
    "$v_2 (n) = s1(n) + s2(n) + s3(n)$\n",
    "\n",
    "\n",
    "**Schema 2**<br>\n",
    "\n",
    "| Input u | État Présent S1 S2 S3 | État Suivant S1 S2 S3 | Sorties v1 v2 |\n",
    "|:-------------:|:------------------------------:|:------------------------------:|:----------------------------:|\n",
    "| 0 | 000 | 000 | 00 |\n",
    "| 1 | 000 | 100 | 00 |\n",
    "| 0 | 100 | 010 | 11 |\n",
    "| 1 | 100 | 110 | 11 |\n",
    "| 0 | 010 | 001 | 01 |\n",
    "| 1 | 010 | 101 | 01 |\n",
    "| 0 | 110 | 011 | 10 |\n",
    "| 1 | 110 | 111 | 10 |\n",
    "| 0 | 001 | 000 | 11 |\n",
    "| 1 | 001 | 100 | 11 |\n",
    "| 0 | 101 | 010 | 00 |\n",
    "| 1 | 101 | 110 | 00 |\n",
    "| 0 | 011 | 001 | 10 |\n",
    "| 1 | 011 | 101 | 10 |\n",
    "| 0 | 111 | 011 | 01 |\n",
    "| 1 | 111 | 111 | 01 |"
   ]
  },
  {
   "cell_type": "code",
   "execution_count": 14,
   "metadata": {},
   "outputs": [
    {
     "data": {
      "text/html": [
       "\n",
       "        <div class=\"mermaid-f464166c-941f-43cf-b7a6-5720aac7d953\"></div>\n",
       "        <script type=\"module\">\n",
       "            import mermaid from 'https://cdn.jsdelivr.net/npm/mermaid@10.1.0/+esm'\n",
       "            const graphDefinition = 'stateDiagram-v2\\n    [*] --> 000\\n    000 --> 000: 0 / 00\\n    000 --> 100: 1 / 00\\n    100 --> 010: 0 / 11\\n    100 --> 110: 1 / 11\\n    010 --> 001: 0 / 01\\n    010 --> 101: 1 / 01\\n    110 --> 011: 0 / 10\\n    110 --> 111: 1 / 10\\n    001 --> 000: 0 / 11\\n    001 --> 100: 1 / 11\\n    101 --> 010: 0 / 00\\n    101 --> 110: 1 / 00\\n    011 --> 001: 0 / 10\\n    011 --> 101: 1 / 10\\n    111 --> 011: 0 / 01\\n    111 --> 111: 1 / 01\\n';\n",
       "            const element = document.querySelector('.mermaid-f464166c-941f-43cf-b7a6-5720aac7d953');\n",
       "            const { svg } = await mermaid.render('graphDiv-f464166c-941f-43cf-b7a6-5720aac7d953', graphDefinition);\n",
       "            element.innerHTML = svg;\n",
       "        </script>\n",
       "        "
      ],
      "text/plain": [
       "<mermaid.mermaid.Mermaid at 0x74faf335c810>"
      ]
     },
     "execution_count": 14,
     "metadata": {},
     "output_type": "execute_result"
    }
   ],
   "source": [
    "\n",
    "\n",
    "schema_2_graph = \"\"\"\n",
    "stateDiagram-v2\n",
    "    [*] --> 000\n",
    "    000 --> 000: 0 / 00\n",
    "    000 --> 100: 1 / 00\n",
    "    100 --> 010: 0 / 11\n",
    "    100 --> 110: 1 / 11\n",
    "    010 --> 001: 0 / 01\n",
    "    010 --> 101: 1 / 01\n",
    "    110 --> 011: 0 / 10\n",
    "    110 --> 111: 1 / 10\n",
    "    001 --> 000: 0 / 11\n",
    "    001 --> 100: 1 / 11\n",
    "    101 --> 010: 0 / 00\n",
    "    101 --> 110: 1 / 00\n",
    "    011 --> 001: 0 / 10\n",
    "    011 --> 101: 1 / 10\n",
    "    111 --> 011: 0 / 01\n",
    "    111 --> 111: 1 / 01\n",
    "\"\"\"\n",
    "\n",
    "# Utilisation de la bibliothèque Mermaid\n",
    "Mermaid(schema_2_graph)\n"
   ]
  },
  {
   "cell_type": "code",
   "execution_count": 7,
   "metadata": {},
   "outputs": [
    {
     "name": "stdout",
     "output_type": "stream",
     "text": [
      "Schéma 1\n",
      "--------\n",
      "Sequence 0: [0, 0, 0, 0] -> 00 00 00 00 00 00 00\n",
      "Sequence 1: [0, 0, 0, 1] -> 00 00 00 00 11 11 01\n",
      "Sequence 2: [0, 0, 1, 0] -> 00 00 00 11 11 01 00\n",
      "Sequence 3: [0, 0, 1, 1] -> 00 00 00 11 00 10 01\n",
      "Sequence 4: [0, 1, 0, 0] -> 00 00 11 11 01 00 00\n",
      "Sequence 5: [0, 1, 0, 1] -> 00 00 11 11 10 11 01\n",
      "Sequence 6: [0, 1, 1, 0] -> 00 00 11 00 10 01 00\n",
      "Sequence 7: [0, 1, 1, 1] -> 00 00 11 00 01 10 01\n",
      "Sequence 8: [1, 0, 0, 0] -> 00 11 11 01 00 00 00\n",
      "Sequence 9: [1, 0, 0, 1] -> 00 11 11 01 11 11 01\n",
      "Sequence 10: [1, 0, 1, 0] -> 00 11 11 10 11 01 00\n",
      "Sequence 11: [1, 0, 1, 1] -> 00 11 11 10 00 10 01\n",
      "Sequence 12: [1, 1, 0, 0] -> 00 11 00 10 01 00 00\n",
      "Sequence 13: [1, 1, 0, 1] -> 00 11 00 10 10 11 01\n",
      "Sequence 14: [1, 1, 1, 0] -> 00 11 00 01 10 01 00\n",
      "Sequence 15: [1, 1, 1, 1] -> 00 11 00 01 01 10 01\n",
      "\n",
      "Schéma 2\n",
      "--------\n",
      "Sequence 0: [0, 0, 0, 0] -> 00 00 00 00 00 00 00\n",
      "Sequence 1: [0, 0, 0, 1] -> 00 00 00 00 11 01 11\n",
      "Sequence 2: [0, 0, 1, 0] -> 00 00 00 11 01 11 00\n",
      "Sequence 3: [0, 0, 1, 1] -> 00 00 00 11 10 10 11\n",
      "Sequence 4: [0, 1, 0, 0] -> 00 00 11 01 11 00 00\n",
      "Sequence 5: [0, 1, 0, 1] -> 00 00 11 01 00 01 11\n",
      "Sequence 6: [0, 1, 1, 0] -> 00 00 11 10 10 11 00\n",
      "Sequence 7: [0, 1, 1, 1] -> 00 00 11 10 01 10 11\n",
      "Sequence 8: [1, 0, 0, 0] -> 00 11 01 11 00 00 00\n",
      "Sequence 9: [1, 0, 0, 1] -> 00 11 01 11 11 01 11\n",
      "Sequence 10: [1, 0, 1, 0] -> 00 11 01 00 01 11 00\n",
      "Sequence 11: [1, 0, 1, 1] -> 00 11 01 00 10 10 11\n",
      "Sequence 12: [1, 1, 0, 0] -> 00 11 10 10 11 00 00\n",
      "Sequence 13: [1, 1, 0, 1] -> 00 11 10 10 00 01 11\n",
      "Sequence 14: [1, 1, 1, 0] -> 00 11 10 01 10 11 00\n",
      "Sequence 15: [1, 1, 1, 1] -> 00 11 10 01 01 10 11\n",
      "\n"
     ]
    }
   ],
   "source": [
    "from collections import deque\n",
    "\n",
    "\n",
    "N = 2\n",
    "K = 1\n",
    "M = 3\n",
    "\n",
    "'''\n",
    "$s1(n) = u(n - 1)$ <br>\n",
    "$s2(n) = s1(n - 1)$ <br>\n",
    "$s3(n) = s2(n - 1)$ <br>\n",
    "\n",
    "*Schéma 1:*<br>\n",
    "$v_1 (n) = s1(n) + s2(n)$<br>\n",
    "$v_2 (n) = s1(n) + s2(n) + s3(n)$\n",
    "'''\n",
    "\n",
    "# Permet juste de choisir le schéma et de calculer les sorties\n",
    "def compute_outputs(state, schema_num):\n",
    "    if schema_num == 1:\n",
    "        v1 = state[0] ^ state[1]\n",
    "    elif schema_num == 2:\n",
    "        v1 = state[0] ^ state[2]\n",
    "    else:\n",
    "        raise ValueError(\"Schéma non reconnu\")\n",
    "    v2 = state[0] ^ state[1] ^ state[2]\n",
    "    return v1, v2\n",
    "\n",
    "# Fonction pour générer les sorties pour une séquence donnée\n",
    "def schema(sequence, schema_num):\n",
    "    M = 3 \n",
    "    current_state = deque([0] * M)  \n",
    "    result = []\n",
    "    \n",
    "    for bit in sequence:\n",
    "        v1, v2 = compute_outputs(current_state, schema_num)  \n",
    "         # Ajout de la sortie au résultat\n",
    "        result.append(f\"{v1}{v2}\") \n",
    "        \n",
    "        current_state.pop() \n",
    "        current_state.appendleft(bit) \n",
    "        \n",
    "    for _ in range(M):  \n",
    "        v1, v2 = compute_outputs(current_state, schema_num)  \n",
    "        result.append(f\"{v1}{v2}\")\n",
    "\n",
    "        current_state.pop()\n",
    "        current_state.appendleft(0)\n",
    "        \n",
    "    return ' '.join(result)\n",
    "\n",
    "\n",
    "# Initialisation de la liste pour stocker les séquences\n",
    "sequences = []\n",
    "\n",
    "# Génération des séquences binaires de longueur 4\n",
    "for i in range(16):  \n",
    "    # Convertit i en binaire et enlève '0b'\n",
    "    binary_string = bin(i)[2:]  \n",
    "     # Ajoute des zéros à gauche\n",
    "    padded_string = binary_string.zfill(4) \n",
    "    # Convertir chaque caractère en entier\n",
    "    binary_sequence = [int(bit) for bit in padded_string]  \n",
    "    sequences.append(binary_sequence)  \n",
    "\n",
    "for i in range(2):\n",
    "    print(f\"Schéma {i + 1}\")\n",
    "    print(\"--------\")\n",
    "    for j,sequence in enumerate(sequences):\n",
    "        print(f\"Sequence {j}: {sequence} -> {schema(sequence, i + 1)}\")\n",
    "    print(\"\")\n",
    "    "
   ]
  },
  {
   "cell_type": "markdown",
   "metadata": {},
   "source": [
    "## 2.4 Verification avec commpy\n"
   ]
  },
  {
   "cell_type": "markdown",
   "metadata": {},
   "source": [
    "-> je n'ai pas réussis a installer commpy sur mon environnement. J'ai réussis a installer  scikit-commpy mais quand je l importe il me dit que le module n'existe pas et parail pour la librairie Trellis `https://pypi.org/project/Trellis/`. Je ne comprends pas pourquoi..."
   ]
  },
  {
   "cell_type": "code",
   "execution_count": null,
   "metadata": {},
   "outputs": [],
   "source": []
  },
  {
   "cell_type": "markdown",
   "metadata": {},
   "source": [
    "# 3. Décodeur de Viterbi"
   ]
  },
  {
   "cell_type": "markdown",
   "metadata": {},
   "source": []
  },
  {
   "cell_type": "markdown",
   "metadata": {},
   "source": [
    "## 3.1 trellis"
   ]
  },
  {
   "cell_type": "markdown",
   "metadata": {},
   "source": [
    "## schema 1\n",
    "<img src=\"img/schema_1.png\" width=\"700\" height=\"700\">\n",
    "\n",
    "\n",
    "## schema 2\n",
    "<img src=\"img/schema_2.png\" width=\"700\" height=\"700\">"
   ]
  },
  {
   "cell_type": "code",
   "execution_count": 13,
   "metadata": {},
   "outputs": [
    {
     "name": "stdout",
     "output_type": "stream",
     "text": [
      "Résultats pour le code du schema_num = 1 :\n",
      "------------------------------------------\n",
      "Entrée : [0, 0, 0, 0] -> encodé : 00 00 00 00 00 00 00 -> décodé : [0, 0, 0, 0]\n",
      "Entrée : [0, 0, 0, 1] -> encodé : 00 00 00 00 11 11 01 -> décodé : [0, 0, 1, 0]\n",
      "Entrée : [0, 0, 1, 0] -> encodé : 00 00 00 11 11 01 00 -> décodé : [0, 1, 0, 0]\n",
      "Entrée : [0, 0, 1, 1] -> encodé : 00 00 00 11 00 10 01 -> décodé : [0, 1, 0, 1]\n",
      "Entrée : [0, 1, 0, 0] -> encodé : 00 00 11 11 01 00 00 -> décodé : [1, 0, 0, 0]\n",
      "Entrée : [0, 1, 0, 1] -> encodé : 00 00 11 11 10 11 01 -> décodé : [0, 1, 0, 1]\n",
      "Entrée : [0, 1, 1, 0] -> encodé : 00 00 11 00 10 01 00 -> décodé : [1, 0, 1, 1]\n",
      "Entrée : [0, 1, 1, 1] -> encodé : 00 00 11 00 01 10 01 -> décodé : [0, 0, 0, 1]\n",
      "Entrée : [1, 0, 0, 0] -> encodé : 00 11 11 01 00 00 00 -> décodé : [1, 0, 0, 0]\n",
      "Entrée : [1, 0, 0, 1] -> encodé : 00 11 11 01 11 11 01 -> décodé : [1, 0, 1, 0]\n",
      "Entrée : [1, 0, 1, 0] -> encodé : 00 11 11 10 11 01 00 -> décodé : [1, 0, 1, 0]\n",
      "Entrée : [1, 0, 1, 1] -> encodé : 00 11 11 10 00 10 01 -> décodé : [1, 0, 0, 0]\n",
      "Entrée : [1, 1, 0, 0] -> encodé : 00 11 00 10 01 00 00 -> décodé : [0, 0, 0, 0]\n",
      "Entrée : [1, 1, 0, 1] -> encodé : 00 11 00 10 10 11 01 -> décodé : [1, 1, 0, 1]\n",
      "Entrée : [1, 1, 1, 0] -> encodé : 00 11 00 01 10 01 00 -> décodé : [0, 0, 1, 1]\n",
      "Entrée : [1, 1, 1, 1] -> encodé : 00 11 00 01 01 10 01 -> décodé : [0, 0, 0, 1]\n",
      "\n",
      "Résultats pour le code du schema_num = 2 :\n",
      "------------------------------------------\n",
      "Entrée : [0, 0, 0, 0] -> encodé : 00 00 00 00 00 00 00 -> décodé : [0, 0, 0, 0]\n",
      "Entrée : [0, 0, 0, 1] -> encodé : 00 00 00 00 11 01 11 -> décodé : [0, 0, 0, 1]\n",
      "Entrée : [0, 0, 1, 0] -> encodé : 00 00 00 11 01 11 00 -> décodé : [0, 0, 1, 0]\n",
      "Entrée : [0, 0, 1, 1] -> encodé : 00 00 00 11 10 10 11 -> décodé : [0, 0, 1, 1]\n",
      "Entrée : [0, 1, 0, 0] -> encodé : 00 00 11 01 11 00 00 -> décodé : [0, 1, 0, 0]\n",
      "Entrée : [0, 1, 0, 1] -> encodé : 00 00 11 01 00 01 11 -> décodé : [0, 1, 0, 1]\n",
      "Entrée : [0, 1, 1, 0] -> encodé : 00 00 11 10 10 11 00 -> décodé : [0, 1, 1, 0]\n",
      "Entrée : [0, 1, 1, 1] -> encodé : 00 00 11 10 01 10 11 -> décodé : [0, 1, 1, 1]\n",
      "Entrée : [1, 0, 0, 0] -> encodé : 00 11 01 11 00 00 00 -> décodé : [1, 0, 0, 0]\n",
      "Entrée : [1, 0, 0, 1] -> encodé : 00 11 01 11 11 01 11 -> décodé : [1, 0, 0, 1]\n",
      "Entrée : [1, 0, 1, 0] -> encodé : 00 11 01 00 01 11 00 -> décodé : [1, 0, 1, 0]\n",
      "Entrée : [1, 0, 1, 1] -> encodé : 00 11 01 00 10 10 11 -> décodé : [1, 0, 1, 1]\n",
      "Entrée : [1, 1, 0, 0] -> encodé : 00 11 10 10 11 00 00 -> décodé : [1, 1, 0, 0]\n",
      "Entrée : [1, 1, 0, 1] -> encodé : 00 11 10 10 00 01 11 -> décodé : [1, 1, 0, 1]\n",
      "Entrée : [1, 1, 1, 0] -> encodé : 00 11 10 01 10 11 00 -> décodé : [1, 1, 1, 0]\n",
      "Entrée : [1, 1, 1, 1] -> encodé : 00 11 10 01 01 10 11 -> décodé : [1, 1, 1, 1]\n"
     ]
    }
   ],
   "source": [
    "def viterbi(encoded_sequence, schema_num):\n",
    "\n",
    "    num_bits = len(encoded_sequence) // N\n",
    "    num_states = 2 ** M \n",
    "\n",
    "    # Initialisation des coûts et des chemins\n",
    "    cost_table = [[float('inf')] * num_states for _ in range(num_bits + 1)]\n",
    "    # L'état initial a un coût de 0\n",
    "    cost_table[0][0] = 0  \n",
    "    predecessor_table = [[None] * num_states for _ in range(num_bits + 1)]\n",
    "\n",
    "    # Parcours de chaque bit dans la séquence encodée\n",
    "    for t in range(num_bits):\n",
    "        encoded_bits = encoded_sequence[2 * t:2 * t + 2]\n",
    "\n",
    "        for current_state in range(num_states):\n",
    "            # Seulement si cet état est accessible\n",
    "            if cost_table[t][current_state] < float('inf'):  \n",
    "                # Test avec les bits d'entrée possibles\n",
    "                for input_bit in [0, 1]:  \n",
    "                    # Détermine l'état suivant\n",
    "                    next_state = ((current_state << 1) | input_bit) & 0b111 \n",
    "                    # Décodage de l'état en binaire\n",
    "                    state_bits = [int(x) for x in f\"{current_state:03b}\"] \n",
    "                    \n",
    "                    # Calcul des sorties pour cet état et ce bit d'entrée\n",
    "                    outputs = compute_outputs(state_bits, schema_num)\n",
    "                    hamming_dist = sum(o != e for o, e in zip(outputs, encoded_bits))\n",
    "                    \n",
    "                    # Mise à jour du coût et du chemin\n",
    "                    new_cost = cost_table[t][current_state] + hamming_dist\n",
    "                    if new_cost < cost_table[t + 1][next_state]:\n",
    "                        cost_table[t + 1][next_state] = new_cost\n",
    "                        predecessor_table[t + 1][next_state] = (current_state, input_bit)\n",
    "\n",
    "    # Récupération du chemin optimal\n",
    "    # il faut choisir l'état final avec le plus petit coût\n",
    "    final_state = min(range(num_states), key=lambda s: cost_table[num_bits][s])\n",
    "    decoded_bits = []\n",
    "    current_state = final_state\n",
    "    for t in range(num_bits, 0, -1):\n",
    "        current_state, input_bit = predecessor_table[t][current_state]\n",
    "        decoded_bits.insert(0, input_bit)\n",
    "\n",
    "    return decoded_bits\n",
    "\n",
    "\n",
    "# Génération des séquences d'entrée (16 séquences de longueur 4)\n",
    "sequences = []\n",
    "for i in range(16):  \n",
    "    binary_string = bin(i)[2:].zfill(4)\n",
    "    seq = [int(bit) for bit in binary_string]\n",
    "    sequences.append(seq)\n",
    "\n",
    "# Fonction pour convertir la sortie du schema en liste de bits\n",
    "def convert_schema_output_to_bits(schema_output):\n",
    "    # schema_output est une string du type \"00 01 10 ...\"\n",
    "    pairs = schema_output.split()\n",
    "    bits = []\n",
    "    for p in pairs:\n",
    "        bits.extend([int(x) for x in p])\n",
    "    return bits\n",
    "\n",
    "# Test pour le code du chema 1\n",
    "print(\"Résultats pour le code du schema_num = 1 :\")\n",
    "print(\"------------------------------------------\")\n",
    "for seq in sequences:\n",
    "    encoded_str = schema(seq, schema_num=1)\n",
    "    encoded_bits = convert_schema_output_to_bits(encoded_str)\n",
    "    decoded = viterbi(encoded_bits, schema_num=1)\n",
    "    decoded = decoded[:len(seq)]\n",
    "    print(f\"Entrée : {seq} -> encodé : {encoded_str} -> décodé : {decoded}\")\n",
    "\n",
    "print(\"\\nRésultats pour le code du schema_num = 2 :\")\n",
    "print(\"------------------------------------------\")\n",
    "for seq in sequences:\n",
    "    encoded_str = schema(seq, schema_num=2)\n",
    "    encoded_bits = convert_schema_output_to_bits(encoded_str)\n",
    "    decoded = viterbi(encoded_bits, schema_num=2)\n",
    "    decoded = decoded[:len(seq)]\n",
    "    print(f\"Entrée : {seq} -> encodé : {encoded_str} -> décodé : {decoded}\")\n"
   ]
  }
 ],
 "metadata": {
  "kernelspec": {
   "display_name": "base",
   "language": "python",
   "name": "python3"
  },
  "language_info": {
   "codemirror_mode": {
    "name": "ipython",
    "version": 3
   },
   "file_extension": ".py",
   "mimetype": "text/x-python",
   "name": "python",
   "nbconvert_exporter": "python",
   "pygments_lexer": "ipython3",
   "version": "3.11.7"
  }
 },
 "nbformat": 4,
 "nbformat_minor": 2
}
